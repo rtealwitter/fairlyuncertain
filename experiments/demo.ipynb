{
  "cells": [
    {
      "cell_type": "markdown",
      "metadata": {
        "id": "view-in-github",
        "colab_type": "text"
      },
      "source": [
        "<a href=\"https://colab.research.google.com/github/rtealwitter/fairlyuncertain/blob/main/experiments/demo.ipynb\" target=\"_parent\"><img src=\"https://colab.research.google.com/assets/colab-badge.svg\" alt=\"Open In Colab\"/></a>"
      ]
    },
    {
      "cell_type": "markdown",
      "metadata": {
        "id": "vlK3mAWOVNuG"
      },
      "source": [
        "# A Guided Introduction to FairlyUncertain\n",
        "\n",
        "In this demo, we will explore some of the functionality of the [FairlyUncertain](https://github.com/rtealwitter/fairlyuncertain) Python package."
      ]
    },
    {
      "cell_type": "code",
      "execution_count": null,
      "metadata": {
        "id": "S4G_qKokAw57"
      },
      "outputs": [],
      "source": [
        "# Roughly 1 minute for installation\n",
        "! pip install fairlyuncertain"
      ]
    },
    {
      "cell_type": "code",
      "execution_count": 2,
      "metadata": {
        "id": "uXaMsp5gAphY"
      },
      "outputs": [],
      "source": [
        "import fairlyuncertain as fu"
      ]
    },
    {
      "cell_type": "markdown",
      "metadata": {
        "id": "zTXv0ToWGpQx"
      },
      "source": [
        "## Loading Datasets\n",
        "\n",
        "FairlyUncertain is designed in a modular way to enable easy loading of popular fairness datasets. We can check which datasets are available by inspecting the `dataloaders` dictionary."
      ]
    },
    {
      "cell_type": "code",
      "execution_count": 3,
      "metadata": {
        "id": "pbmDm-Z9Govf",
        "colab": {
          "base_uri": "https://localhost:8080/"
        },
        "outputId": "7cea317b-6a3c-4e0b-fb33-954f951880e6"
      },
      "outputs": [
        {
          "output_type": "execute_result",
          "data": {
            "text/plain": [
              "['Adult',\n",
              " 'Bank',\n",
              " 'COMPAS',\n",
              " 'German',\n",
              " 'MEPS',\n",
              " 'Law School',\n",
              " 'Communities',\n",
              " 'Insurance',\n",
              " 'IHDP',\n",
              " 'Twins',\n",
              " 'ACS']"
            ]
          },
          "metadata": {},
          "execution_count": 3
        }
      ],
      "source": [
        "# The available datasets\n",
        "list(fu.dataloaders.keys())"
      ]
    },
    {
      "cell_type": "markdown",
      "metadata": {
        "id": "2H5bB9lxV3ri"
      },
      "source": [
        "Let's select the Adult dataset. We can load each dataset by calling the `load_instance` function."
      ]
    },
    {
      "cell_type": "code",
      "execution_count": 4,
      "metadata": {
        "id": "7uka9_b-INim",
        "colab": {
          "base_uri": "https://localhost:8080/"
        },
        "outputId": "6105039f-091c-4392-fbb6-fa7ed601d94a"
      },
      "outputs": [
        {
          "output_type": "stream",
          "name": "stdout",
          "text": [
            "Caching Adult dataset...\n"
          ]
        }
      ],
      "source": [
        "instance = fu.load_instance('Adult')"
      ]
    },
    {
      "cell_type": "markdown",
      "metadata": {
        "id": "W73C6W8gV8yp"
      },
      "source": [
        "An instance is a standardized object used for training. It includes the number of observations `n`, the covariates `X`, the outcomes `y`, and the group indicator `group`. For standardized comparison, it includes a testing-training split (the ratio can be specified as an optional parameter to `load_instance`) on the data. There are also model hyperparameters specified in the instance."
      ]
    },
    {
      "cell_type": "code",
      "execution_count": 5,
      "metadata": {
        "id": "sbJTmlejIW28",
        "colab": {
          "base_uri": "https://localhost:8080/"
        },
        "outputId": "8a133b90-c821-4c2e-8900-22010a739e7a"
      },
      "outputs": [
        {
          "output_type": "stream",
          "name": "stdout",
          "text": [
            "The Adult dataset has 45222 observations with 102 covariates.\n"
          ]
        }
      ],
      "source": [
        "print(f\"The {instance['name']} dataset has {instance['n']} observations with {instance['X'].shape[1]} covariates.\")"
      ]
    },
    {
      "cell_type": "markdown",
      "metadata": {
        "id": "PYsawY42GtGF"
      },
      "source": [
        "## Using Model\n",
        "\n",
        "The foundation of FairlyUncertain is a standardized set of algorithms. Each algorithm accepts the `instance` object and outputs a dictionary with predictions in `pred` and, if relevant to the algorithm, an uncertainty estimate in `std`. We can check which algorithms are available by inspecting the `algorithms` dictionary. (Please see the paper for descriptions of each algorithm.)"
      ]
    },
    {
      "cell_type": "code",
      "execution_count": 6,
      "metadata": {
        "id": "hKpvYWLRHwHA",
        "colab": {
          "base_uri": "https://localhost:8080/"
        },
        "outputId": "6f456a90-f39f-4405-817f-42b71dfb1867"
      },
      "outputs": [
        {
          "output_type": "execute_result",
          "data": {
            "text/plain": [
              "['True',\n",
              " 'Baseline',\n",
              " 'Random',\n",
              " 'Ensemble',\n",
              " 'Selective Ensemble',\n",
              " 'Self-(in)consistency',\n",
              " 'Binomial NLL',\n",
              " 'Normal NLL',\n",
              " '$\\\\beta$-NLL',\n",
              " 'Faithful NLL',\n",
              " 'Threshold Optimizer SP',\n",
              " 'Threshold Optimizer EO',\n",
              " 'Exponentiated Gradient SP',\n",
              " 'Exponentiated Gradient EO',\n",
              " 'Exponentiated Gradient Square',\n",
              " 'Exponentiated Gradient Absolute',\n",
              " 'Grid Search SP',\n",
              " 'Grid Search EO',\n",
              " 'Grid Search Square',\n",
              " 'Grid Search Absolute']"
            ]
          },
          "metadata": {},
          "execution_count": 6
        }
      ],
      "source": [
        "list(fu.algorithms.keys())"
      ]
    },
    {
      "cell_type": "markdown",
      "metadata": {
        "id": "E9hLVgRLX2Y6"
      },
      "source": [
        "Let's select the Ensemble algorithm."
      ]
    },
    {
      "cell_type": "code",
      "execution_count": 7,
      "metadata": {
        "id": "uYeg1RY2H7Xk"
      },
      "outputs": [],
      "source": [
        "algorithm = fu.algorithms['Ensemble']\n",
        "output = algorithm(instance)"
      ]
    },
    {
      "cell_type": "markdown",
      "metadata": {
        "id": "pD42GWr8X7CU"
      },
      "source": [
        "The output of the algorithm is a set of predictions and heteroscedastic uncertainty estimates."
      ]
    },
    {
      "cell_type": "code",
      "execution_count": 8,
      "metadata": {
        "id": "hilLG5iGIb76",
        "colab": {
          "base_uri": "https://localhost:8080/"
        },
        "outputId": "7d62657c-0642-4c57-e188-490dbb83cd4d"
      },
      "outputs": [
        {
          "output_type": "execute_result",
          "data": {
            "text/plain": [
              "{'pred': array([0.01725876, 0.5879601 , 0.31332615, ..., 0.72311276, 0.04574106,\n",
              "        0.01620598], dtype=float32),\n",
              " 'std': array([0.00260234, 0.02367161, 0.05317773, ..., 0.0178168 , 0.00450354,\n",
              "        0.00350027], dtype=float32)}"
            ]
          },
          "metadata": {},
          "execution_count": 8
        }
      ],
      "source": [
        "output"
      ]
    },
    {
      "cell_type": "markdown",
      "metadata": {
        "id": "MuY90TsWYADM"
      },
      "source": [
        "Now that we know how to load a dataset and algorithm, let's consider a set of algorithms evaluated on different datasets."
      ]
    },
    {
      "cell_type": "code",
      "execution_count": 9,
      "metadata": {
        "id": "DiYh2jvhI5B8",
        "colab": {
          "base_uri": "https://localhost:8080/"
        },
        "outputId": "1ade66e5-cce9-4614-95d6-b520f4f1127a"
      },
      "outputs": [
        {
          "output_type": "stream",
          "name": "stdout",
          "text": [
            "Caching Bank dataset...\n",
            "Caching COMPAS dataset...\n",
            "Caching German dataset...\n"
          ]
        }
      ],
      "source": [
        "# Several binary algorithms that output uncertainty estimates\n",
        "algo_names = ['Ensemble', 'Selective Ensemble', 'Self-(in)consistency', 'Binomial NLL']\n",
        "# Several binary datasets\n",
        "datasets = ['Adult', 'Bank', 'COMPAS', 'German']\n",
        "is_binary = True # Flag for later evaluation\n",
        "\n",
        "results = {}\n",
        "for dataset in datasets: # Roughly 15 seconds per dataset\n",
        "  instance = fu.load_instance(dataset)\n",
        "  # Instance contains a random testing-training split so we save it for later evaluation\n",
        "  results[dataset] = {'instance' : instance}\n",
        "  for algo_name in algo_names:\n",
        "    algorithm = fu.algorithms[algo_name]\n",
        "    output = algorithm(instance)\n",
        "    results[dataset][algo_name] = output\n"
      ]
    },
    {
      "cell_type": "markdown",
      "metadata": {
        "id": "1iFhKqhXGxYk"
      },
      "source": [
        "## Visualizing Calibration\n",
        "\n",
        "We can visualize the calibration of the algorithms by calling `plot_calibration`. For groups of observations with similar uncertainty estimates, the plot shows the average empirical standard deviation against the average predicted uncertainty."
      ]
    },
    {
      "cell_type": "code",
      "execution_count": 10,
      "metadata": {
        "id": "YMEv1ZDkJxwJ",
        "colab": {
          "base_uri": "https://localhost:8080/",
          "height": 370
        },
        "outputId": "4934e22c-b03d-4cff-e37f-c72277243e83"
      },
      "outputs": [
        {
          "output_type": "display_data",
          "data": {
            "text/plain": [
              "<Figure size 1600x300 with 4 Axes>"
            ],
            "image/png": "[encoded data removed]"
          },
          "metadata": {}
        }
      ],
      "source": [
        "fu.plot_calibration(results, is_binary, algo_names, datasets)"
      ]
    },
    {
      "cell_type": "markdown",
      "metadata": {
        "id": "RKCw-1EaZ0ED"
      },
      "source": [
        "The dashed gray line indicates the perfectly calibrated model. While not perfect, Binomial NLL is closest to calibrated."
      ]
    },
    {
      "cell_type": "markdown",
      "metadata": {
        "id": "cvf93CfzR8_x"
      },
      "source": [
        "## Measuring Calibration\n",
        "\n",
        "We can also measure calibration by computing the Negative Log-Likelihood (NLL) for each algorithm."
      ]
    },
    {
      "cell_type": "code",
      "execution_count": 11,
      "metadata": {
        "id": "Uorf_R9LR_gs",
        "colab": {
          "base_uri": "https://localhost:8080/"
        },
        "outputId": "2c6e21b9-4d51-45d7-ab57-30546a1c700f"
      },
      "outputs": [
        {
          "output_type": "stream",
          "name": "stdout",
          "text": [
            "Approach                Adult    Bank    COMPAS    German\n",
            "--------------------  -------  ------  --------  --------\n",
            "Ensemble                0.891   0.45      1.85      1.25\n",
            "Selective Ensemble      0.858   0.442     1.87      1.45\n",
            "Self-(in)consistency    0.804   0.381     1.6       1.2\n",
            "Binomial NLL            0.308   0.191     0.601     0.574\n"
          ]
        }
      ],
      "source": [
        "nll_results = {}\n",
        "\n",
        "for dataset in datasets:\n",
        "  instance = results[dataset]['instance']\n",
        "  nll_results[dataset] = {}\n",
        "  for algo_name in algo_names:\n",
        "    output = results[dataset][algo_name]\n",
        "    nll = fu.get_nll(output['pred'], output['std'], instance['y_test'], is_binary)\n",
        "    nll_results[dataset][algo_name] = nll\n",
        "\n",
        "\n",
        "fu.print_table(nll_results, output_latex=False, include_var=False)"
      ]
    },
    {
      "cell_type": "markdown",
      "metadata": {
        "id": "ArJl2YEvaGgU"
      },
      "source": [
        "As suggested by the plots, Binomial NLL is the most calibrated model as measured by NLL."
      ]
    },
    {
      "cell_type": "markdown",
      "metadata": {
        "id": "I6ff9AdTGyvC"
      },
      "source": [
        "## Binary Fairness with Abstention"
      ]
    },
    {
      "cell_type": "markdown",
      "metadata": {
        "id": "LrcXqwBBadiD"
      },
      "source": [
        "We can evaluate the fairness of each algorithm using several standard fairness metrics. In order to incorporate uncertainty, we'll use the abstention framework where models have the option to abstain from predictions with high predicted uncertainty. We'll compare the fairness of models in the abstention framework to standard fairness interventions."
      ]
    },
    {
      "cell_type": "code",
      "execution_count": 12,
      "metadata": {
        "id": "7qaXOaqRM0AF",
        "colab": {
          "base_uri": "https://localhost:8080/"
        },
        "outputId": "5f258df5-347b-4a21-ea7b-de10fe2425a4"
      },
      "outputs": [
        {
          "output_type": "stream",
          "name": "stdout",
          "text": [
            "Caching ACS dataset...\n"
          ]
        }
      ],
      "source": [
        "dataset = 'ACS' # Select a binary dataset\n",
        "\n",
        "instance = fu.load_instance(dataset)\n",
        "\n",
        "algo_names += [\n",
        "    'Baseline', # No fairness intervention\n",
        "    'Exponentiated Gradient EO', # Fairness intervention to minimize equalized odds\n",
        "    'Exponentiated Gradient SP', # Fairness intervention to minimize statistical parity\n",
        "]\n",
        "\n",
        "num_runs = 5\n",
        "results = {}\n",
        "for num_run in range(num_runs): # Roughly 1 minutes per loop\n",
        "  results[num_run] = {'instance' : instance}\n",
        "  for algo_name in algo_names:\n",
        "    algorithm = fu.algorithms[algo_name]\n",
        "    output = algorithm(instance)\n",
        "    results[num_run][algo_name] = output"
      ]
    },
    {
      "cell_type": "markdown",
      "metadata": {
        "id": "re2zhsSPjJur"
      },
      "source": [
        "We can print a table to easily inspect the fairness performance below."
      ]
    },
    {
      "cell_type": "code",
      "execution_count": 13,
      "metadata": {
        "id": "1d2JnEGXdZZm",
        "colab": {
          "base_uri": "https://localhost:8080/"
        },
        "outputId": "60c1a457-2607-44f9-fab1-5464f75fe838"
      },
      "outputs": [
        {
          "output_type": "stream",
          "name": "stdout",
          "text": [
            "Approach                     Error Rate    Statistical Parity    Equalized Odds    Included \\%\n",
            "-------------------------  ------------  --------------------  ----------------  -------------\n",
            "Ensemble                          0.134                 0.056             0.033           85\n",
            "Selective Ensemble                0.153                 0.076             0.035           97\n",
            "Self-(in)consistency              0.15                  0.075             0.033           96.2\n",
            "Binomial NLL                      0.105                 0.091             0.028           75\n",
            "Baseline                          0.159                 0.068             0.035          100\n",
            "Exponentiated Gradient EO         0.163                 0.081             0.045          100\n",
            "Exponentiated Gradient SP         0.17                  0.033             0.037          100\n"
          ]
        }
      ],
      "source": [
        "metric_values = fu.compute_binary_fairness(results, algo_names, fu.binary_metrics)\n",
        "\n",
        "fu.print_table(metric_values, output_latex=False, include_var=False)"
      ]
    }
  ],
  "metadata": {
    "colab": {
      "provenance": [],
      "include_colab_link": true
    },
    "kernelspec": {
      "display_name": "Python 3",
      "name": "python3"
    },
    "language_info": {
      "name": "python"
    }
  },
  "nbformat": 4,
  "nbformat_minor": 0
}